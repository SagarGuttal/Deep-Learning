{
  "nbformat": 4,
  "nbformat_minor": 0,
  "metadata": {
    "colab": {
      "name": "Hand digit recognition system.ipynb",
      "provenance": [],
      "collapsed_sections": [],
      "authorship_tag": "ABX9TyPo/6odQ9nDH5kjW4FUdYQj",
      "include_colab_link": true
    },
    "kernelspec": {
      "name": "python3",
      "display_name": "Python 3"
    },
    "language_info": {
      "name": "python"
    },
    "accelerator": "GPU",
    "gpuClass": "standard"
  },
  "cells": [
    {
      "cell_type": "markdown",
      "metadata": {
        "id": "view-in-github",
        "colab_type": "text"
      },
      "source": [
        "<a href=\"https://colab.research.google.com/github/SagarGuttal/Deep-Learning/blob/main/Hand_digit_recognition_system.ipynb\" target=\"_parent\"><img src=\"https://colab.research.google.com/assets/colab-badge.svg\" alt=\"Open In Colab\"/></a>"
      ]
    },
    {
      "cell_type": "code",
      "execution_count": 31,
      "metadata": {
        "id": "5RulO5MMc9Yz"
      },
      "outputs": [],
      "source": [
        "import numpy as np\n",
        "import matplotlib.pyplot as plt\n",
        "from tensorflow import keras\n",
        "import tensorflow as tf\n",
        "%matplotlib inline "
      ]
    },
    {
      "cell_type": "code",
      "source": [
        "(x_train, y_train), (x_test,y_test) = keras.datasets.mnist.load_data()"
      ],
      "metadata": {
        "id": "i86tQGrCeigc"
      },
      "execution_count": 32,
      "outputs": []
    },
    {
      "cell_type": "markdown",
      "source": [
        "Totally this datasets consist of 60000 rows in training and 10000 in testing"
      ],
      "metadata": {
        "id": "9y5hV_aefWoX"
      }
    },
    {
      "cell_type": "code",
      "source": [
        "len(x_train)"
      ],
      "metadata": {
        "colab": {
          "base_uri": "https://localhost:8080/"
        },
        "id": "SZZco_94e0cA",
        "outputId": "45069a23-cf2c-4b7f-e70f-d06afd395d12"
      },
      "execution_count": 33,
      "outputs": [
        {
          "output_type": "execute_result",
          "data": {
            "text/plain": [
              "60000"
            ]
          },
          "metadata": {},
          "execution_count": 33
        }
      ]
    },
    {
      "cell_type": "code",
      "source": [
        "len(x_test)"
      ],
      "metadata": {
        "colab": {
          "base_uri": "https://localhost:8080/"
        },
        "id": "3_aH1mG0e5Yn",
        "outputId": "1dd4e981-90f9-4feb-c7e8-c8b332483919"
      },
      "execution_count": 34,
      "outputs": [
        {
          "output_type": "execute_result",
          "data": {
            "text/plain": [
              "10000"
            ]
          },
          "metadata": {},
          "execution_count": 34
        }
      ]
    },
    {
      "cell_type": "code",
      "source": [
        "x_train.shape"
      ],
      "metadata": {
        "colab": {
          "base_uri": "https://localhost:8080/"
        },
        "id": "JUAmCDNUe7r5",
        "outputId": "4e86fad0-3863-4cda-b2df-de54ad3ec712"
      },
      "execution_count": 35,
      "outputs": [
        {
          "output_type": "execute_result",
          "data": {
            "text/plain": [
              "(60000, 28, 28)"
            ]
          },
          "metadata": {},
          "execution_count": 35
        }
      ]
    },
    {
      "cell_type": "markdown",
      "source": [
        "features are images these images are in 28*28 dimeansion in the form of 2-d array"
      ],
      "metadata": {
        "id": "nO6biBcLfk2y"
      }
    },
    {
      "cell_type": "code",
      "source": [
        "x_train[0].shape"
      ],
      "metadata": {
        "colab": {
          "base_uri": "https://localhost:8080/"
        },
        "id": "KpKyyhWUfQJz",
        "outputId": "4bbc0565-9872-4e5c-b7ed-e141e4afc319"
      },
      "execution_count": 36,
      "outputs": [
        {
          "output_type": "execute_result",
          "data": {
            "text/plain": [
              "(28, 28)"
            ]
          },
          "metadata": {},
          "execution_count": 36
        }
      ]
    },
    {
      "cell_type": "markdown",
      "source": [
        "Lets see first image in input"
      ],
      "metadata": {
        "id": "aTPGe_FGf-5R"
      }
    },
    {
      "cell_type": "code",
      "source": [
        "plt.imshow(x_train[0])\n",
        "plt.show()"
      ],
      "metadata": {
        "colab": {
          "base_uri": "https://localhost:8080/",
          "height": 265
        },
        "id": "Tkoofjwuf1dS",
        "outputId": "c9e8e216-c68f-407c-c3e4-642066d02f6f"
      },
      "execution_count": 37,
      "outputs": [
        {
          "output_type": "display_data",
          "data": {
            "text/plain": [
              "<Figure size 432x288 with 1 Axes>"
            ],
            "image/png": "[encoded data removed]"
          },
          "metadata": {
            "needs_background": "light"
          }
        }
      ]
    },
    {
      "cell_type": "markdown",
      "source": [
        "Lets see first output rows contains\n",
        "y_train cotains number between 1 to 10. its shows corresponding handwritten numbers"
      ],
      "metadata": {
        "id": "b2mwtHa1grjr"
      }
    },
    {
      "cell_type": "code",
      "source": [
        "y_train[0]"
      ],
      "metadata": {
        "colab": {
          "base_uri": "https://localhost:8080/"
        },
        "id": "35zDNGCpgpK3",
        "outputId": "059af27a-48b7-4727-ecee-28636333e144"
      },
      "execution_count": 38,
      "outputs": [
        {
          "output_type": "execute_result",
          "data": {
            "text/plain": [
              "5"
            ]
          },
          "metadata": {},
          "execution_count": 38
        }
      ]
    },
    {
      "cell_type": "code",
      "source": [
        "## Images in first 30 inputs and corresponding output values \n",
        "for i in range(1,30):\n",
        "  plt.subplot(3,10,1+i)\n",
        "  # plt.legend(handles, labels)\n",
        "  plt.xticks([])\n",
        "  plt.yticks([])\n",
        "  plt.imshow(x_train[i])\n",
        "  plt.xlabel(y_train[i])\n"
      ],
      "metadata": {
        "colab": {
          "base_uri": "https://localhost:8080/",
          "height": 227
        },
        "id": "ijSxHiKwgKlP",
        "outputId": "54f28a23-7e56-472f-9a03-e957e926fc01"
      },
      "execution_count": 39,
      "outputs": [
        {
          "output_type": "display_data",
          "data": {
            "text/plain": [
              "<Figure size 432x288 with 29 Axes>"
            ],
            "image/png": "[encoded data removed]"
          },
          "metadata": {}
        }
      ]
    },
    {
      "cell_type": "code",
      "source": [
        "x_train.shape"
      ],
      "metadata": {
        "colab": {
          "base_uri": "https://localhost:8080/"
        },
        "id": "wF6JsfiOiFHu",
        "outputId": "852d0b71-0c7d-4dc9-e01d-98d2210af411"
      },
      "execution_count": 40,
      "outputs": [
        {
          "output_type": "execute_result",
          "data": {
            "text/plain": [
              "(60000, 28, 28)"
            ]
          },
          "metadata": {},
          "execution_count": 40
        }
      ]
    },
    {
      "cell_type": "code",
      "source": [
        "x_test.shape"
      ],
      "metadata": {
        "colab": {
          "base_uri": "https://localhost:8080/"
        },
        "id": "dUWx5d_AjhvZ",
        "outputId": "548b5fa8-5c43-4c64-b70f-78767d020da3"
      },
      "execution_count": 41,
      "outputs": [
        {
          "output_type": "execute_result",
          "data": {
            "text/plain": [
              "(10000, 28, 28)"
            ]
          },
          "metadata": {},
          "execution_count": 41
        }
      ]
    },
    {
      "cell_type": "code",
      "source": [
        "# These input values are in 0 - 255 \n",
        "# scaled the value in 0 - 1"
      ],
      "metadata": {
        "id": "SsVKcZW7oxCH"
      },
      "execution_count": 42,
      "outputs": []
    },
    {
      "cell_type": "code",
      "source": [
        "x_train, x_test = x_train/255, x_test/255"
      ],
      "metadata": {
        "id": "1A7As0UIo7cZ"
      },
      "execution_count": 43,
      "outputs": []
    },
    {
      "cell_type": "markdown",
      "source": [
        "In this dataset input values are in 28*28 dimension (2-D) we have to convert it into 1-D form"
      ],
      "metadata": {
        "id": "Oq9wcYftjlJx"
      }
    },
    {
      "cell_type": "code",
      "source": [
        "x_train = x_train.reshape(len(x_train), 28*28)\n",
        "x_test = x_test.reshape(len(x_test), 28*28)"
      ],
      "metadata": {
        "id": "LedhKFlgjkXs"
      },
      "execution_count": 44,
      "outputs": []
    },
    {
      "cell_type": "code",
      "source": [
        "print(x_train.shape)\n",
        "print(x_test.shape)"
      ],
      "metadata": {
        "colab": {
          "base_uri": "https://localhost:8080/"
        },
        "id": "rFFicm7CjjDf",
        "outputId": "a1ec1355-0c59-480e-8bd4-3d7464eb2f80"
      },
      "execution_count": 45,
      "outputs": [
        {
          "output_type": "stream",
          "name": "stdout",
          "text": [
            "(60000, 784)\n",
            "(10000, 784)\n"
          ]
        }
      ]
    },
    {
      "cell_type": "markdown",
      "source": [
        "Lets create a simple neoral networks and check accuracy"
      ],
      "metadata": {
        "id": "aHw_8TdvlaW9"
      }
    },
    {
      "cell_type": "code",
      "source": [
        "model = keras.Sequential([\n",
        "  keras.layers.Dense(10, input_shape= (784,), activation='sigmoid')\n",
        "])\n",
        "\n",
        "model.compile(\n",
        "    optimizer = 'adam', loss = 'sparse_categorical_crossentropy', metrics = ['accuracy']\n",
        ")\n",
        "\n",
        "model.fit(x_train , y_train, epochs = 10)\n"
      ],
      "metadata": {
        "colab": {
          "base_uri": "https://localhost:8080/"
        },
        "id": "0RjapoNwkMVv",
        "outputId": "15ea75cb-5ab8-467d-84c5-6b0040e8b8de"
      },
      "execution_count": 46,
      "outputs": [
        {
          "output_type": "stream",
          "name": "stdout",
          "text": [
            "Epoch 1/10\n",
            "1875/1875 [==============================] - 4s 2ms/step - loss: 0.4662 - accuracy: 0.8787\n",
            "Epoch 2/10\n",
            "1875/1875 [==============================] - 4s 2ms/step - loss: 0.3041 - accuracy: 0.9150\n",
            "Epoch 3/10\n",
            "1875/1875 [==============================] - 3s 2ms/step - loss: 0.2834 - accuracy: 0.9205\n",
            "Epoch 4/10\n",
            "1875/1875 [==============================] - 3s 2ms/step - loss: 0.2729 - accuracy: 0.9230\n",
            "Epoch 5/10\n",
            "1875/1875 [==============================] - 4s 2ms/step - loss: 0.2667 - accuracy: 0.9257\n",
            "Epoch 6/10\n",
            "1875/1875 [==============================] - 4s 2ms/step - loss: 0.2623 - accuracy: 0.9273\n",
            "Epoch 7/10\n",
            "1875/1875 [==============================] - 3s 2ms/step - loss: 0.2582 - accuracy: 0.9282\n",
            "Epoch 8/10\n",
            "1875/1875 [==============================] - 4s 2ms/step - loss: 0.2555 - accuracy: 0.9291\n",
            "Epoch 9/10\n",
            "1875/1875 [==============================] - 4s 2ms/step - loss: 0.2530 - accuracy: 0.9301\n",
            "Epoch 10/10\n",
            "1875/1875 [==============================] - 4s 2ms/step - loss: 0.2506 - accuracy: 0.9302\n"
          ]
        },
        {
          "output_type": "execute_result",
          "data": {
            "text/plain": [
              "<keras.callbacks.History at 0x7fb8026c1350>"
            ]
          },
          "metadata": {},
          "execution_count": 46
        }
      ]
    },
    {
      "cell_type": "code",
      "source": [
        "model.evaluate(x_test,y_test)"
      ],
      "metadata": {
        "colab": {
          "base_uri": "https://localhost:8080/"
        },
        "id": "Cn0sukMEpSkK",
        "outputId": "4cb5df67-c208-4aec-d05c-cdb88fd15ea1"
      },
      "execution_count": 47,
      "outputs": [
        {
          "output_type": "stream",
          "name": "stdout",
          "text": [
            "313/313 [==============================] - 1s 2ms/step - loss: 0.2639 - accuracy: 0.9267\n"
          ]
        },
        {
          "output_type": "execute_result",
          "data": {
            "text/plain": [
              "[0.2638828754425049, 0.9266999959945679]"
            ]
          },
          "metadata": {},
          "execution_count": 47
        }
      ]
    },
    {
      "cell_type": "code",
      "source": [
        "y_prediction = model.predict(x_test)"
      ],
      "metadata": {
        "id": "BwvX10MC-Rdo"
      },
      "execution_count": 48,
      "outputs": []
    },
    {
      "cell_type": "code",
      "source": [
        "#sigmoid fuction predicted 10 values for all classes these values are probabilities of being a which number \n",
        "y_prediction[0]"
      ],
      "metadata": {
        "colab": {
          "base_uri": "https://localhost:8080/"
        },
        "id": "NkFVEv5z_vML",
        "outputId": "d80b03dc-bf60-4ade-d57f-552482b05543"
      },
      "execution_count": 49,
      "outputs": [
        {
          "output_type": "execute_result",
          "data": {
            "text/plain": [
              "array([2.32715020e-03, 1.13764616e-08, 1.50854886e-02, 9.64783609e-01,\n",
              "       1.26845925e-03, 1.39461115e-01, 4.44221655e-08, 9.99825060e-01,\n",
              "       8.57744142e-02, 7.12383986e-01], dtype=float32)"
            ]
          },
          "metadata": {},
          "execution_count": 49
        }
      ]
    },
    {
      "cell_type": "code",
      "source": [
        "#argmax fuction return the index of maximum number \n",
        "np.argmax(y_prediction[0])"
      ],
      "metadata": {
        "colab": {
          "base_uri": "https://localhost:8080/"
        },
        "id": "gLMGr1zt_zc7",
        "outputId": "6066d4de-487c-463e-dcc4-e5a0c58ee17c"
      },
      "execution_count": 50,
      "outputs": [
        {
          "output_type": "execute_result",
          "data": {
            "text/plain": [
              "7"
            ]
          },
          "metadata": {},
          "execution_count": 50
        }
      ]
    },
    {
      "cell_type": "code",
      "source": [
        "## lets see how our test data predicted\n",
        "reshped_1 = x_test[0].reshape(28,28)\n",
        "plt.imshow(reshped_1)\n",
        "plt.show()"
      ],
      "metadata": {
        "colab": {
          "base_uri": "https://localhost:8080/",
          "height": 265
        },
        "id": "FjO3xkRYBG5q",
        "outputId": "a3972b0f-d34c-4948-be82-6a46eb999a6b"
      },
      "execution_count": 51,
      "outputs": [
        {
          "output_type": "display_data",
          "data": {
            "text/plain": [
              "<Figure size 432x288 with 1 Axes>"
            ],
            "image/png": "[encoded data removed]"
          },
          "metadata": {
            "needs_background": "light"
          }
        }
      ]
    },
    {
      "cell_type": "code",
      "source": [
        "(actual_x_train, _actual_y_train), (actual_x_test,actual_y_test) = keras.datasets.mnist.load_data()"
      ],
      "metadata": {
        "id": "rWjo8VUaFjLV"
      },
      "execution_count": 52,
      "outputs": []
    },
    {
      "cell_type": "code",
      "source": [
        "#these are first 10 testing images\n",
        "actual_x_test[0:10]"
      ],
      "metadata": {
        "colab": {
          "base_uri": "https://localhost:8080/"
        },
        "id": "Q-G8liF1G9hF",
        "outputId": "ec6146e3-25c8-4df5-e2ca-92e08898c174"
      },
      "execution_count": 53,
      "outputs": [
        {
          "output_type": "execute_result",
          "data": {
            "text/plain": [
              "array([[[0, 0, 0, ..., 0, 0, 0],\n",
              "        [0, 0, 0, ..., 0, 0, 0],\n",
              "        [0, 0, 0, ..., 0, 0, 0],\n",
              "        ...,\n",
              "        [0, 0, 0, ..., 0, 0, 0],\n",
              "        [0, 0, 0, ..., 0, 0, 0],\n",
              "        [0, 0, 0, ..., 0, 0, 0]],\n",
              "\n",
              "       [[0, 0, 0, ..., 0, 0, 0],\n",
              "        [0, 0, 0, ..., 0, 0, 0],\n",
              "        [0, 0, 0, ..., 0, 0, 0],\n",
              "        ...,\n",
              "        [0, 0, 0, ..., 0, 0, 0],\n",
              "        [0, 0, 0, ..., 0, 0, 0],\n",
              "        [0, 0, 0, ..., 0, 0, 0]],\n",
              "\n",
              "       [[0, 0, 0, ..., 0, 0, 0],\n",
              "        [0, 0, 0, ..., 0, 0, 0],\n",
              "        [0, 0, 0, ..., 0, 0, 0],\n",
              "        ...,\n",
              "        [0, 0, 0, ..., 0, 0, 0],\n",
              "        [0, 0, 0, ..., 0, 0, 0],\n",
              "        [0, 0, 0, ..., 0, 0, 0]],\n",
              "\n",
              "       ...,\n",
              "\n",
              "       [[0, 0, 0, ..., 0, 0, 0],\n",
              "        [0, 0, 0, ..., 0, 0, 0],\n",
              "        [0, 0, 0, ..., 0, 0, 0],\n",
              "        ...,\n",
              "        [0, 0, 0, ..., 0, 0, 0],\n",
              "        [0, 0, 0, ..., 0, 0, 0],\n",
              "        [0, 0, 0, ..., 0, 0, 0]],\n",
              "\n",
              "       [[0, 0, 0, ..., 0, 0, 0],\n",
              "        [0, 0, 0, ..., 0, 0, 0],\n",
              "        [0, 0, 0, ..., 0, 0, 0],\n",
              "        ...,\n",
              "        [0, 0, 0, ..., 0, 0, 0],\n",
              "        [0, 0, 0, ..., 0, 0, 0],\n",
              "        [0, 0, 0, ..., 0, 0, 0]],\n",
              "\n",
              "       [[0, 0, 0, ..., 0, 0, 0],\n",
              "        [0, 0, 0, ..., 0, 0, 0],\n",
              "        [0, 0, 0, ..., 0, 0, 0],\n",
              "        ...,\n",
              "        [0, 0, 0, ..., 0, 0, 0],\n",
              "        [0, 0, 0, ..., 0, 0, 0],\n",
              "        [0, 0, 0, ..., 0, 0, 0]]], dtype=uint8)"
            ]
          },
          "metadata": {},
          "execution_count": 53
        }
      ]
    },
    {
      "cell_type": "code",
      "source": [
        "#These are my first 10 predicted images names\n",
        "y_prediction[0:10]"
      ],
      "metadata": {
        "colab": {
          "base_uri": "https://localhost:8080/"
        },
        "id": "uD78Wk4-GRST",
        "outputId": "bcfce237-4765-4497-d221-2d890fd21ddf"
      },
      "execution_count": 54,
      "outputs": [
        {
          "output_type": "execute_result",
          "data": {
            "text/plain": [
              "array([[2.32715020e-03, 1.13764616e-08, 1.50854886e-02, 9.64783609e-01,\n",
              "        1.26845925e-03, 1.39461115e-01, 4.44221655e-08, 9.99825060e-01,\n",
              "        8.57744142e-02, 7.12383986e-01],\n",
              "       [1.66721642e-01, 3.93700553e-03, 9.99830842e-01, 1.16322525e-01,\n",
              "        1.13436396e-11, 8.90251935e-01, 9.45606530e-01, 3.06091322e-15,\n",
              "        1.49021044e-01, 1.06283706e-11],\n",
              "       [9.95121081e-05, 9.93124068e-01, 6.89527392e-01, 3.06211770e-01,\n",
              "        2.07379181e-02, 9.86913368e-02, 1.57333583e-01, 4.54254933e-02,\n",
              "        3.37704569e-01, 4.08107750e-02],\n",
              "       [9.98694599e-01, 3.93433019e-09, 1.39332414e-01, 3.64392111e-03,\n",
              "        3.06138718e-05, 5.66155910e-02, 1.52428582e-01, 8.36857781e-03,\n",
              "        2.04346944e-02, 3.57143357e-02],\n",
              "       [2.55447291e-02, 6.48799869e-06, 1.88189924e-01, 1.44407549e-03,\n",
              "        9.89961505e-01, 9.75427590e-03, 1.40925810e-01, 2.42759869e-01,\n",
              "        2.13519081e-01, 7.84545243e-01],\n",
              "       [1.72591190e-05, 9.97661710e-01, 4.97659951e-01, 3.61916512e-01,\n",
              "        5.39434887e-03, 1.47456815e-02, 6.76192250e-03, 5.83726883e-01,\n",
              "        4.90283519e-01, 1.72550306e-01],\n",
              "       [2.33519386e-04, 8.26855921e-06, 1.83036595e-04, 2.08043233e-02,\n",
              "        9.97333646e-01, 5.50635219e-01, 7.50189601e-03, 2.93892622e-01,\n",
              "        7.00751245e-01, 8.10536623e-01],\n",
              "       [1.65513157e-07, 1.69889212e-01, 7.48549402e-03, 1.50193395e-02,\n",
              "        2.00778544e-01, 2.26261154e-01, 1.43015830e-04, 9.53858625e-03,\n",
              "        4.62507419e-02, 9.88700867e-01],\n",
              "       [8.87702554e-02, 1.59840567e-07, 9.56217106e-03, 5.88141177e-07,\n",
              "        3.27546000e-01, 3.53871524e-01, 9.99656200e-01, 1.14897691e-08,\n",
              "        7.96574876e-02, 1.57715622e-05],\n",
              "       [1.09387811e-05, 7.24499571e-10, 1.21211531e-06, 2.65419512e-04,\n",
              "        8.46849978e-01, 1.01337454e-03, 2.22317823e-07, 8.88956070e-01,\n",
              "        3.33332479e-01, 9.98303056e-01]], dtype=float32)"
            ]
          },
          "metadata": {},
          "execution_count": 54
        }
      ]
    },
    {
      "cell_type": "code",
      "source": [
        "for i in range(1,30):\n",
        "  plt.subplot(3,10,1+i)\n",
        "  # plt.legend(handles, labels)\n",
        "  plt.xticks([])\n",
        "  plt.yticks([])\n",
        "  plt.imshow(actual_x_test[i])\n",
        "  plt.xlabel(np.argmax(y_prediction[i]))"
      ],
      "metadata": {
        "colab": {
          "base_uri": "https://localhost:8080/",
          "height": 227
        },
        "id": "AdoHXr7tGDTN",
        "outputId": "05a92f11-95ad-40ba-ba30-556074d890a5"
      },
      "execution_count": 55,
      "outputs": [
        {
          "output_type": "display_data",
          "data": {
            "text/plain": [
              "<Figure size 432x288 with 29 Axes>"
            ],
            "image/png": "[encoded data removed]"
          },
          "metadata": {}
        }
      ]
    },
    {
      "cell_type": "code",
      "source": [
        "## lets see confusion metrics\n",
        "y_predicted_labels = [np.argmax(i) for i in y_prediction]\n",
        "print(actual_y_test[0:10])\n",
        "print(y_predicted_labels[0:10])"
      ],
      "metadata": {
        "colab": {
          "base_uri": "https://localhost:8080/"
        },
        "id": "C7QXK9aSHXcZ",
        "outputId": "144630b8-c2a7-4131-d627-8286b3af4443"
      },
      "execution_count": 56,
      "outputs": [
        {
          "output_type": "stream",
          "name": "stdout",
          "text": [
            "[7 2 1 0 4 1 4 9 5 9]\n",
            "[7, 2, 1, 0, 4, 1, 4, 9, 6, 9]\n"
          ]
        }
      ]
    },
    {
      "cell_type": "code",
      "source": [
        "cm = tf.math.confusion_matrix(labels=y_test,predictions=y_predicted_labels)\n",
        "cm"
      ],
      "metadata": {
        "colab": {
          "base_uri": "https://localhost:8080/"
        },
        "id": "GHrUhHUeIiBA",
        "outputId": "fca7fc74-15c8-4b39-ecfd-8f0b58c61b1f"
      },
      "execution_count": 57,
      "outputs": [
        {
          "output_type": "execute_result",
          "data": {
            "text/plain": [
              "<tf.Tensor: shape=(10, 10), dtype=int32, numpy=\n",
              "array([[ 947,    0,    4,    2,    0,    8,   12,    3,    3,    1],\n",
              "       [   0, 1106,    4,    2,    0,    1,    4,    2,   16,    0],\n",
              "       [   3,    6,  934,   12,    6,    5,   12,   10,   39,    5],\n",
              "       [   1,    0,   23,  917,    0,   21,    4,   11,   20,   13],\n",
              "       [   1,    1,    9,    1,  897,    0,   10,    4,   11,   48],\n",
              "       [   6,    2,    1,   33,    7,  778,   15,    8,   35,    7],\n",
              "       [   7,    3,    7,    1,    7,   11,  917,    2,    3,    0],\n",
              "       [   1,    6,   25,    2,    5,    1,    0,  946,    2,   40],\n",
              "       [   3,    4,    7,   18,    8,   19,   11,   10,  881,   13],\n",
              "       [   6,    5,    2,    7,   16,    6,    0,   13,   10,  944]],\n",
              "      dtype=int32)>"
            ]
          },
          "metadata": {},
          "execution_count": 57
        }
      ]
    },
    {
      "cell_type": "code",
      "source": [
        "import seaborn as sns\n",
        "plt.figure(figsize=(15,10))\n",
        "sns.heatmap(cm,annot=True,fmt='d',cmap='Set2')\n",
        "plt.xlabel('predicted')\n",
        "plt.ylabel('Truth')\n",
        "plt.show()"
      ],
      "metadata": {
        "colab": {
          "base_uri": "https://localhost:8080/",
          "height": 606
        },
        "id": "JV6crf-TJA2D",
        "outputId": "1fa153b7-52d2-47d9-c673-f270296733a0"
      },
      "execution_count": 58,
      "outputs": [
        {
          "output_type": "display_data",
          "data": {
            "text/plain": [
              "<Figure size 1080x720 with 2 Axes>"
            ],
            "image/png": "[encoded data removed]"
          },
          "metadata": {
            "needs_background": "light"
          }
        }
      ]
    },
    {
      "cell_type": "code",
      "source": [
        "model_1 = keras.Sequential([\n",
        "  keras.layers.Dense(units=64, input_shape= (784,), activation='relu'),\n",
        "  keras.layers.Dense(10,  activation='sigmoid')\n",
        "])\n",
        "\n",
        "model_1.compile(\n",
        "    optimizer = 'adam', loss = 'sparse_categorical_crossentropy', metrics = ['accuracy']\n",
        ")\n",
        "\n",
        "model_1.fit(x_train , y_train, epochs = 10)"
      ],
      "metadata": {
        "colab": {
          "base_uri": "https://localhost:8080/"
        },
        "id": "FNPHJd-yJ_pp",
        "outputId": "887ec716-2aa9-40fe-ced3-e7fd5e13938a"
      },
      "execution_count": 63,
      "outputs": [
        {
          "output_type": "stream",
          "name": "stdout",
          "text": [
            "Epoch 1/10\n",
            "1875/1875 [==============================] - 5s 3ms/step - loss: 0.2976 - accuracy: 0.9171\n",
            "Epoch 2/10\n",
            "1875/1875 [==============================] - 5s 2ms/step - loss: 0.1411 - accuracy: 0.9585\n",
            "Epoch 3/10\n",
            "1875/1875 [==============================] - 4s 2ms/step - loss: 0.1021 - accuracy: 0.9699\n",
            "Epoch 4/10\n",
            "1875/1875 [==============================] - 4s 2ms/step - loss: 0.0811 - accuracy: 0.9761\n",
            "Epoch 5/10\n",
            "1875/1875 [==============================] - 4s 2ms/step - loss: 0.0674 - accuracy: 0.9799\n",
            "Epoch 6/10\n",
            "1875/1875 [==============================] - 4s 2ms/step - loss: 0.0559 - accuracy: 0.9829\n",
            "Epoch 7/10\n",
            "1875/1875 [==============================] - 4s 2ms/step - loss: 0.0485 - accuracy: 0.9847\n",
            "Epoch 8/10\n",
            "1875/1875 [==============================] - 4s 2ms/step - loss: 0.0413 - accuracy: 0.9873\n",
            "Epoch 9/10\n",
            "1875/1875 [==============================] - 4s 2ms/step - loss: 0.0351 - accuracy: 0.9892\n",
            "Epoch 10/10\n",
            "1875/1875 [==============================] - 4s 2ms/step - loss: 0.0306 - accuracy: 0.9909\n"
          ]
        },
        {
          "output_type": "execute_result",
          "data": {
            "text/plain": [
              "<keras.callbacks.History at 0x7fb73c5bb590>"
            ]
          },
          "metadata": {},
          "execution_count": 63
        }
      ]
    },
    {
      "cell_type": "code",
      "source": [
        "y_prediction_1 = model_1.predict(x_test)\n",
        "y_prediction_labels_1 = [np.argmax(x) for x in y_prediction_1]"
      ],
      "metadata": {
        "id": "-6Ks5q27Rv_D"
      },
      "execution_count": 64,
      "outputs": []
    },
    {
      "cell_type": "code",
      "source": [
        "cm_1 = tf.math.confusion_matrix(labels=y_test,predictions=y_prediction_labels_1)\n",
        "print(cm_1)"
      ],
      "metadata": {
        "colab": {
          "base_uri": "https://localhost:8080/"
        },
        "id": "f9Ox0nx9T8Pa",
        "outputId": "581161ec-8d72-4d01-e386-a5c894266356"
      },
      "execution_count": 65,
      "outputs": [
        {
          "output_type": "stream",
          "name": "stdout",
          "text": [
            "tf.Tensor(\n",
            "[[ 970    0    0    2    0    1    2    2    3    0]\n",
            " [   0 1125    3    0    0    0    2    0    5    0]\n",
            " [  11    5  984    5    3    0    4    7   12    1]\n",
            " [   0    0    6  990    0    3    0    3    5    3]\n",
            " [   3    0    3    0  960    0    3    2    1   10]\n",
            " [   2    0    0   11    2  866    3    1    6    1]\n",
            " [   6    3    0    1    5    3  937    1    2    0]\n",
            " [   1    4    7    1    3    0    0 1003    2    7]\n",
            " [   1    0    3    7    6    4    2    2  946    3]\n",
            " [   2    3    0   10    7    3    0    3    1  980]], shape=(10, 10), dtype=int32)\n"
          ]
        }
      ]
    },
    {
      "cell_type": "code",
      "source": [
        "model_1.evaluate(x_test,y_test)"
      ],
      "metadata": {
        "colab": {
          "base_uri": "https://localhost:8080/"
        },
        "id": "sq3b8HJzUK1L",
        "outputId": "ea0ae433-5060-4370-c78b-402c9dc10967"
      },
      "execution_count": 66,
      "outputs": [
        {
          "output_type": "stream",
          "name": "stdout",
          "text": [
            "313/313 [==============================] - 1s 2ms/step - loss: 0.0828 - accuracy: 0.9761\n"
          ]
        },
        {
          "output_type": "execute_result",
          "data": {
            "text/plain": [
              "[0.08275064826011658, 0.9761000275611877]"
            ]
          },
          "metadata": {},
          "execution_count": 66
        }
      ]
    },
    {
      "cell_type": "code",
      "source": [
        "plt.figure(figsize=(15,10))\n",
        "sns.heatmap(cm_1,annot=True,fmt='d',cmap='tab10')\n",
        "plt.xlabel('predicted')\n",
        "plt.ylabel('Truth')\n",
        "plt.show()"
      ],
      "metadata": {
        "colab": {
          "base_uri": "https://localhost:8080/",
          "height": 606
        },
        "id": "xop_11eZUfpU",
        "outputId": "8c3fb16b-29aa-4795-a42c-aa304682ed2c"
      },
      "execution_count": 67,
      "outputs": [
        {
          "output_type": "display_data",
          "data": {
            "text/plain": [
              "<Figure size 1080x720 with 2 Axes>"
            ],
            "image/png": "[encoded data removed]"
          },
          "metadata": {
            "needs_background": "light"
          }
        }
      ]
    },
    {
      "cell_type": "markdown",
      "source": [
        "Above we scaled our data set into (0 to 1) by (0 to 255)\n",
        "belove i showed how pass dataset input layer without reshaping tensor do it automatically"
      ],
      "metadata": {
        "id": "d9a4GUkGVJcn"
      }
    },
    {
      "cell_type": "code",
      "source": [
        "(x_train, y_train), (x_test,y_test) = keras.datasets.mnist.load_data()"
      ],
      "metadata": {
        "id": "MvxBypW4Vr0Z"
      },
      "execution_count": 68,
      "outputs": []
    },
    {
      "cell_type": "code",
      "source": [
        "model_2 = keras.Sequential([\n",
        "  keras.layers.Flatten(input_shape= (28,28)),           # input layer -- Flattten converts 2-D into 1_D             \n",
        "  keras.layers.Dense(units=64, activation='relu'),      #hidden layer\n",
        "  keras.layers.Dense(10,  activation='sigmoid')         #output layer  \n",
        "])\n",
        "\n",
        "model_2.compile(\n",
        "    optimizer = 'adam', loss = 'sparse_categorical_crossentropy', metrics = ['accuracy']\n",
        ")"
      ],
      "metadata": {
        "id": "yMWXnzsbV13g"
      },
      "execution_count": 71,
      "outputs": []
    },
    {
      "cell_type": "code",
      "source": [
        ""
      ],
      "metadata": {
        "id": "M1Kl472cV92p"
      },
      "execution_count": null,
      "outputs": []
    }
  ]
}