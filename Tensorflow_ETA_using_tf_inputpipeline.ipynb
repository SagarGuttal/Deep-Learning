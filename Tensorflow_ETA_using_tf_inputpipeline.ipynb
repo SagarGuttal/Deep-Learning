{
  "nbformat": 4,
  "nbformat_minor": 0,
  "metadata": {
    "colab": {
      "name": "Tensorflow ETA using tf inputpipeline.ipynb",
      "provenance": [],
      "collapsed_sections": [],
      "authorship_tag": "ABX9TyPRfg2FqslgvLTOq1lz1cyj",
      "include_colab_link": true
    },
    "kernelspec": {
      "name": "python3",
      "display_name": "Python 3"
    },
    "language_info": {
      "name": "python"
    }
  },
  "cells": [
    {
      "cell_type": "markdown",
      "metadata": {
        "id": "view-in-github",
        "colab_type": "text"
      },
      "source": [
        "<a href=\"https://colab.research.google.com/github/SagarGuttal/Deep-Learning/blob/main/Tensorflow_ETA_using_tf_inputpipeline.ipynb\" target=\"_parent\"><img src=\"https://colab.research.google.com/assets/colab-badge.svg\" alt=\"Open In Colab\"/></a>"
      ]
    },
    {
      "cell_type": "code",
      "execution_count": 1,
      "metadata": {
        "id": "YIBF4MVstG3r"
      },
      "outputs": [],
      "source": [
        "import tensorflow as tf"
      ]
    },
    {
      "cell_type": "code",
      "source": [
        "daily_sales = [21,45,-65,-89,85,-45,78,23,-65,-75,23]"
      ],
      "metadata": {
        "id": "azlJcZ9UtWuC"
      },
      "execution_count": 2,
      "outputs": []
    },
    {
      "cell_type": "code",
      "source": [
        "tf_dataset = tf.data.Dataset.from_tensor_slices(daily_sales)\n",
        "tf_dataset"
      ],
      "metadata": {
        "colab": {
          "base_uri": "https://localhost:8080/"
        },
        "id": "vtTA3Zw1tfbo",
        "outputId": "fe03d08c-84b3-4921-8b32-864345f0e3b1"
      },
      "execution_count": 3,
      "outputs": [
        {
          "output_type": "execute_result",
          "data": {
            "text/plain": [
              "<TensorSliceDataset element_spec=TensorSpec(shape=(), dtype=tf.int32, name=None)>"
            ]
          },
          "metadata": {},
          "execution_count": 3
        }
      ]
    },
    {
      "cell_type": "code",
      "source": [
        "#it stored in tensors\n",
        "for sales in tf_dataset:\n",
        "  print(sales)"
      ],
      "metadata": {
        "colab": {
          "base_uri": "https://localhost:8080/"
        },
        "id": "nPFm0CGqtz8B",
        "outputId": "40b3c5a3-4a9a-48f3-f975-f03bff83c0d0"
      },
      "execution_count": 4,
      "outputs": [
        {
          "output_type": "stream",
          "name": "stdout",
          "text": [
            "tf.Tensor(21, shape=(), dtype=int32)\n",
            "tf.Tensor(45, shape=(), dtype=int32)\n",
            "tf.Tensor(-65, shape=(), dtype=int32)\n",
            "tf.Tensor(-89, shape=(), dtype=int32)\n",
            "tf.Tensor(85, shape=(), dtype=int32)\n",
            "tf.Tensor(-45, shape=(), dtype=int32)\n",
            "tf.Tensor(78, shape=(), dtype=int32)\n",
            "tf.Tensor(23, shape=(), dtype=int32)\n",
            "tf.Tensor(-65, shape=(), dtype=int32)\n",
            "tf.Tensor(-75, shape=(), dtype=int32)\n",
            "tf.Tensor(23, shape=(), dtype=int32)\n"
          ]
        }
      ]
    },
    {
      "cell_type": "code",
      "source": [
        "#Show in numpy array\n",
        "for sales in tf_dataset:\n",
        "  print(sales.numpy())"
      ],
      "metadata": {
        "colab": {
          "base_uri": "https://localhost:8080/"
        },
        "id": "2RaKegykt_Ch",
        "outputId": "04ed863a-ef21-4167-e723-c48d5d896e1c"
      },
      "execution_count": 5,
      "outputs": [
        {
          "output_type": "stream",
          "name": "stdout",
          "text": [
            "21\n",
            "45\n",
            "-65\n",
            "-89\n",
            "85\n",
            "-45\n",
            "78\n",
            "23\n",
            "-65\n",
            "-75\n",
            "23\n"
          ]
        }
      ]
    },
    {
      "cell_type": "code",
      "source": [
        "#Show in numpy array\n",
        "for sales in tf_dataset.as_numpy_iterator():\n",
        "  print(sales)"
      ],
      "metadata": {
        "colab": {
          "base_uri": "https://localhost:8080/"
        },
        "id": "eKxLEwlWuNpQ",
        "outputId": "33d09188-3927-4be8-8d8e-051387644721"
      },
      "execution_count": 8,
      "outputs": [
        {
          "output_type": "stream",
          "name": "stdout",
          "text": [
            "21\n",
            "45\n",
            "-65\n",
            "-89\n",
            "85\n",
            "-45\n",
            "78\n",
            "23\n",
            "-65\n",
            "-75\n",
            "23\n"
          ]
        }
      ]
    },
    {
      "cell_type": "code",
      "source": [
        "#Show in numpy array and looking first 3 items\n",
        "for sales in tf_dataset.take(3):\n",
        "  print(sales.numpy())"
      ],
      "metadata": {
        "colab": {
          "base_uri": "https://localhost:8080/"
        },
        "id": "4-nlqW4quZ9m",
        "outputId": "8862a443-26b0-4bbf-8300-d528ccfec9d2"
      },
      "execution_count": 10,
      "outputs": [
        {
          "output_type": "stream",
          "name": "stdout",
          "text": [
            "21\n",
            "45\n",
            "-65\n"
          ]
        }
      ]
    },
    {
      "cell_type": "code",
      "source": [
        "#we can filter the item using filter function in tf.dataset pipline\n",
        "filterted_data = tf_dataset.filter(lambda x: x>0)\n",
        "for sales_filter in filterted_data:\n",
        "  print(sales_filter.numpy())"
      ],
      "metadata": {
        "colab": {
          "base_uri": "https://localhost:8080/"
        },
        "id": "wRLOCBtrusGE",
        "outputId": "71b37526-61f8-4694-c8b7-aaee669f4ad7"
      },
      "execution_count": 11,
      "outputs": [
        {
          "output_type": "stream",
          "name": "stdout",
          "text": [
            "21\n",
            "45\n",
            "85\n",
            "78\n",
            "23\n",
            "23\n"
          ]
        }
      ]
    },
    {
      "cell_type": "code",
      "source": [
        "#we can also transfor our data into using map funtion in tf.dataset pipline\n",
        "transfored_data = filterted_data.map(lambda x:x*72)\n",
        "for sales_trasfor in transfored_data.as_numpy_iterator():\n",
        "  print(sales_trasfor)"
      ],
      "metadata": {
        "colab": {
          "base_uri": "https://localhost:8080/"
        },
        "id": "P3fHgcZZvorg",
        "outputId": "ef523879-1a23-41c5-c769-3ad1b8774749"
      },
      "execution_count": 16,
      "outputs": [
        {
          "output_type": "stream",
          "name": "stdout",
          "text": [
            "1512\n",
            "3240\n",
            "6120\n",
            "5616\n",
            "1656\n",
            "1656\n"
          ]
        }
      ]
    },
    {
      "cell_type": "code",
      "source": [
        "# we can aslo shuffle the dataset using tf.dataset pipline\n",
        "shuffled_data = transfored_data.shuffle(5)   #inside shuffle we give buffer_size \n",
        "for sales_shuffle in shuffled_data.as_numpy_iterator():\n",
        "  print(sales_shuffle)"
      ],
      "metadata": {
        "colab": {
          "base_uri": "https://localhost:8080/"
        },
        "id": "-g-F1Cy5wenw",
        "outputId": "49c45d3e-2957-43a5-d712-b1acfe1cc581"
      },
      "execution_count": 18,
      "outputs": [
        {
          "output_type": "stream",
          "name": "stdout",
          "text": [
            "5616\n",
            "1512\n",
            "3240\n",
            "6120\n",
            "1656\n",
            "1656\n"
          ]
        }
      ]
    },
    {
      "cell_type": "code",
      "source": [
        "#We can also create batch of datasets using tf.dataset pipline\n",
        "batch_dataset = transfored_data.batch(2)\n",
        "for batch_sale in batch_dataset.as_numpy_iterator():\n",
        "  print(batch_sale)"
      ],
      "metadata": {
        "colab": {
          "base_uri": "https://localhost:8080/"
        },
        "id": "b-MiSgjLxauy",
        "outputId": "ca9a8af7-f8b7-4c1b-e75d-2955c86475b5"
      },
      "execution_count": 19,
      "outputs": [
        {
          "output_type": "stream",
          "name": "stdout",
          "text": [
            "[1512 3240]\n",
            "[6120 5616]\n",
            "[1656 1656]\n"
          ]
        }
      ]
    },
    {
      "cell_type": "code",
      "source": [
        "## We can perform all ETA in one line using tf.dataset pipline\n",
        "tf_dataset = tf.data.Dataset.from_tensor_slices(daily_sales)\n",
        "tf_dataset = tf_dataset.filter(lambda x: x>0).map(lambda y: y*72).shuffle(2).batch(2)"
      ],
      "metadata": {
        "id": "xrR9Ykub4AjG"
      },
      "execution_count": 20,
      "outputs": []
    },
    {
      "cell_type": "code",
      "source": [
        "for sales in tf_dataset.as_numpy_iterator():\n",
        "  print(sales)"
      ],
      "metadata": {
        "colab": {
          "base_uri": "https://localhost:8080/"
        },
        "id": "mbbylBwj45QH",
        "outputId": "cee8072d-5df4-4469-8251-dda3b67e224d"
      },
      "execution_count": 22,
      "outputs": [
        {
          "output_type": "stream",
          "name": "stdout",
          "text": [
            "[1512 6120]\n",
            "[3240 5616]\n",
            "[1656 1656]\n"
          ]
        }
      ]
    },
    {
      "cell_type": "code",
      "source": [
        ""
      ],
      "metadata": {
        "id": "WhgPMzCd5ABR"
      },
      "execution_count": null,
      "outputs": []
    }
  ]
}